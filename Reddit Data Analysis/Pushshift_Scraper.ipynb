{
 "cells": [
  {
   "cell_type": "code",
   "execution_count": 1,
   "metadata": {},
   "outputs": [],
   "source": [
    "from datetime import datetime, timedelta, timezone"
   ]
  },
  {
   "cell_type": "code",
   "execution_count": 2,
   "metadata": {},
   "outputs": [],
   "source": [
    "import time"
   ]
  },
  {
   "cell_type": "code",
   "execution_count": 3,
   "metadata": {},
   "outputs": [],
   "source": [
    "import requests"
   ]
  },
  {
   "cell_type": "code",
   "execution_count": null,
   "metadata": {},
   "outputs": [],
   "source": []
  },
  {
   "cell_type": "code",
   "execution_count": 4,
   "metadata": {},
   "outputs": [],
   "source": [
    "# PUSHSHIFT SCRAPING FUNCTIONS"
   ]
  },
  {
   "cell_type": "code",
   "execution_count": 5,
   "metadata": {},
   "outputs": [],
   "source": [
    "def get_posts_from_pushshift_by_day(subreddit, start_pull, end_pull):\n",
    "        \n",
    "    # Convert the date to a Unix timestamp\n",
    "    timestamp_start = int(start_pull.timestamp())\n",
    "    timestamp_end = int(end_pull.timestamp())\n",
    "\n",
    "    # Set up the Pushshift API URL\n",
    "    url = f\"https://api.pushshift.io/reddit/search/submission/?subreddit={subreddit}&after={timestamp_start}&before={timestamp_end}\"\n",
    "    \n",
    "    # Make the API request and get the JSON response\n",
    "    response = requests.get(url)\n",
    "    response_json = response.json()\n",
    "\n",
    "    # Extract the posts from the response and return them\n",
    "    posts = response_json['data']\n",
    "    return posts"
   ]
  },
  {
   "cell_type": "code",
   "execution_count": 6,
   "metadata": {},
   "outputs": [],
   "source": [
    "def scrape_range(subreddit, start, end):\n",
    "    daily_postlist = {}\n",
    "    \n",
    "    current_start = start\n",
    "    current_end = current_start + timedelta(days=1) - timedelta(seconds=1)\n",
    "    while (current_end < end):\n",
    "\n",
    "        max_tries = 8\n",
    "        current_tries = 0  \n",
    "        while current_tries < max_tries:      \n",
    "            # repeat failed calls with linear backoff\n",
    "            time.sleep(current_tries) \n",
    "            try:\n",
    "                daily_posts = get_posts_from_pushshift_by_day(subreddit, current_start, current_end)\n",
    "                daily_postlist[current_start] = daily_posts\n",
    "   \n",
    "                date_string = current_start.strftime('%Y-%m-%d %H:%M:%S')\n",
    "                print(f\"pushshift scraped for {date_string}\")\n",
    "                \n",
    "                break\n",
    "            except:\n",
    "                current_tries += 1\n",
    "                date_string = current_start.strftime('%Y-%m-%d %H:%M:%S')\n",
    "                print(f'pushshift call failed for {date_string}, retrying {current_tries} / {max_tries}')\n",
    "        \n",
    "        current_start = current_start + timedelta(days=1)\n",
    "        current_end = current_start + timedelta(days=1) - timedelta(seconds=1)\n",
    "    \n",
    "    return daily_postlist"
   ]
  },
  {
   "cell_type": "code",
   "execution_count": null,
   "metadata": {},
   "outputs": [],
   "source": []
  },
  {
   "cell_type": "code",
   "execution_count": 7,
   "metadata": {},
   "outputs": [],
   "source": [
    "# GET PUSHSHIFT POSTS"
   ]
  },
  {
   "cell_type": "code",
   "execution_count": 8,
   "metadata": {},
   "outputs": [],
   "source": [
    "subreddit = 'newworldgame'"
   ]
  },
  {
   "cell_type": "code",
   "execution_count": 9,
   "metadata": {},
   "outputs": [],
   "source": [
    "start = datetime(2021, 4, 1, tzinfo=timezone.utc)  "
   ]
  },
  {
   "cell_type": "code",
   "execution_count": 10,
   "metadata": {},
   "outputs": [],
   "source": [
    "end = datetime(2021, 4, 2, tzinfo=timezone.utc)  "
   ]
  },
  {
   "cell_type": "code",
   "execution_count": 19,
   "metadata": {},
   "outputs": [],
   "source": [
    "postlist_daydict = scrape_range(subreddit, start, end)"
   ]
  },
  {
   "cell_type": "code",
   "execution_count": null,
   "metadata": {},
   "outputs": [],
   "source": []
  },
  {
   "cell_type": "code",
   "execution_count": 12,
   "metadata": {},
   "outputs": [],
   "source": [
    "# REVIEW PUSHSHIFT DATA"
   ]
  },
  {
   "cell_type": "code",
   "execution_count": 18,
   "metadata": {},
   "outputs": [],
   "source": [
    "total_count = 0\n",
    "for key in postlist_daydict:\n",
    "    print(f'{key.date()} with {len(postlist_daydict[key])} entries')\n",
    "    print()\n",
    "    for post in postlist_daydict[key]:\n",
    "        total_count = total_count + 1\n",
    "        print(f\"{post['title']} | {post['id']}\")"
   ]
  }
 ],
 "metadata": {
  "kernelspec": {
   "display_name": "Python 3",
   "language": "python",
   "name": "python3"
  },
  "language_info": {
   "codemirror_mode": {
    "name": "ipython",
    "version": 3
   },
   "file_extension": ".py",
   "mimetype": "text/x-python",
   "name": "python",
   "nbconvert_exporter": "python",
   "pygments_lexer": "ipython3",
   "version": "3.7.4"
  }
 },
 "nbformat": 4,
 "nbformat_minor": 2
}
