{
 "cells": [
  {
   "cell_type": "code",
   "execution_count": 3,
   "id": "4c3f20a9",
   "metadata": {},
   "outputs": [],
   "source": [
    "import json\n",
    "import praw"
   ]
  },
  {
   "cell_type": "code",
   "execution_count": 4,
   "id": "5a1e4309",
   "metadata": {},
   "outputs": [],
   "source": [
    "from textblob import TextBlob"
   ]
  },
  {
   "cell_type": "code",
   "execution_count": 5,
   "id": "b1a3ade5",
   "metadata": {},
   "outputs": [],
   "source": [
    "import numpy as np\n"
   ]
  },
  {
   "cell_type": "code",
   "execution_count": 6,
   "id": "92f98750",
   "metadata": {},
   "outputs": [],
   "source": [
    "import pandas as pd"
   ]
  },
  {
   "cell_type": "code",
   "execution_count": 7,
   "id": "0d76599d",
   "metadata": {},
   "outputs": [],
   "source": [
    "import matplotlib.pyplot as plt\n"
   ]
  },
  {
   "cell_type": "code",
   "execution_count": 8,
   "id": "0e8ba3d7",
   "metadata": {},
   "outputs": [],
   "source": [
    "import seaborn as sns"
   ]
  },
  {
   "cell_type": "code",
   "execution_count": 9,
   "id": "598e9454",
   "metadata": {},
   "outputs": [],
   "source": [
    "import matplotlib as mpl"
   ]
  },
  {
   "cell_type": "code",
   "execution_count": 10,
   "id": "4ec1aa6b",
   "metadata": {},
   "outputs": [],
   "source": [
    "import datetime\n",
    "from datetime import timedelta, timezone"
   ]
  },
  {
   "cell_type": "code",
   "execution_count": 11,
   "id": "0153fcde",
   "metadata": {},
   "outputs": [],
   "source": [
    "#language processing\n",
    "import re\n",
    "import nltk\n",
    "from nltk.corpus import stopwords\n",
    "from nltk.tokenize import word_tokenize, sent_tokenize\n",
    "from nltk.stem import PorterStemmer"
   ]
  },
  {
   "cell_type": "code",
   "execution_count": 50,
   "id": "866f95b9",
   "metadata": {},
   "outputs": [],
   "source": [
    "# this allows you to do for post.comments and post.replies\n",
    "from itertools import chain"
   ]
  },
  {
   "cell_type": "code",
   "execution_count": 95,
   "id": "606d10be",
   "metadata": {},
   "outputs": [],
   "source": [
    "import copy"
   ]
  },
  {
   "cell_type": "code",
   "execution_count": 26,
   "id": "ac8c6735",
   "metadata": {},
   "outputs": [],
   "source": [
    "import openai"
   ]
  },
  {
   "cell_type": "code",
   "execution_count": 25,
   "id": "58b0318e",
   "metadata": {},
   "outputs": [],
   "source": [
    "import os"
   ]
  },
  {
   "cell_type": "code",
   "execution_count": 21,
   "id": "51e7a80e",
   "metadata": {},
   "outputs": [],
   "source": [
    "import random"
   ]
  },
  {
   "cell_type": "code",
   "execution_count": 2,
   "id": "c0d84f43",
   "metadata": {},
   "outputs": [],
   "source": [
    "import csv"
   ]
  },
  {
   "cell_type": "code",
   "execution_count": 41,
   "id": "426c29a1",
   "metadata": {},
   "outputs": [],
   "source": [
    "#GET DATA FROM FILES\n",
    "all_comments_list = []\n",
    "with open(\"Comments_Sample/launch_comments_all.csv\", \"r\", newline=\"\", encoding=\"utf-8\") as csvfile:\n",
    "    reader = csv.reader(csvfile)\n",
    "    for row in reader:\n",
    "        all_comments_list.append(row[0])"
   ]
  },
  {
   "cell_type": "code",
   "execution_count": 15,
   "id": "26c8e6fd",
   "metadata": {},
   "outputs": [],
   "source": [
    "tax_comments_list = []\n",
    "with open(\"Comments_Sample/launch_comments_tax.csv\", \"r\", newline=\"\", encoding=\"utf-8\") as csvfile:\n",
    "    reader = csv.reader(csvfile)\n",
    "    for row in reader:\n",
    "        tax_comments_list.append(row[0])"
   ]
  },
  {
   "cell_type": "code",
   "execution_count": null,
   "id": "2bdb1369",
   "metadata": {},
   "outputs": [],
   "source": []
  },
  {
   "cell_type": "code",
   "execution_count": 7,
   "id": "e3cd14b0",
   "metadata": {},
   "outputs": [],
   "source": [
    "# PREPARE COMMENTS FOR SUMMARIZATION"
   ]
  },
  {
   "cell_type": "code",
   "execution_count": 79,
   "id": "2d029e53",
   "metadata": {},
   "outputs": [],
   "source": [
    "def segment_text(raw_text):\n",
    "    # Split the string into tokens based on whitespace\n",
    "    tokens = raw_text.split()\n",
    "\n",
    "    # Set the maximum length of each segment\n",
    "    max_length = 2400\n",
    "\n",
    "    # Initialize an empty list to store the segments\n",
    "    segments = []\n",
    "\n",
    "    # Loop over the tokens and slice the string into segments\n",
    "    for i in range(0, len(tokens), max_length):\n",
    "        segment_tokens = tokens[i:i+max_length]\n",
    "        segment = ' '.join(segment_tokens)\n",
    "        segments.append(segment)\n",
    "        \n",
    "    return segments"
   ]
  },
  {
   "cell_type": "code",
   "execution_count": 60,
   "id": "3389a745",
   "metadata": {},
   "outputs": [
    {
     "data": {
      "text/plain": [
       "16"
      ]
     },
     "execution_count": 60,
     "metadata": {},
     "output_type": "execute_result"
    }
   ],
   "source": [
    "#Merge comments into one string then re-split based on token length\n",
    "random.shuffle(tax_comments_list)\n",
    "tax_segments = segment_text(' '.join(tax_comments_list))\n",
    "len(tax_segments)"
   ]
  },
  {
   "cell_type": "code",
   "execution_count": 80,
   "id": "826f175c",
   "metadata": {},
   "outputs": [
    {
     "data": {
      "text/plain": [
       "40"
      ]
     },
     "execution_count": 80,
     "metadata": {},
     "output_type": "execute_result"
    }
   ],
   "source": [
    "random.shuffle(all_comments_list)\n",
    "general_segments = segment_text(' '.join(all_comments_list))\n",
    "len(general_segments)"
   ]
  },
  {
   "cell_type": "code",
   "execution_count": null,
   "id": "172e3971",
   "metadata": {},
   "outputs": [],
   "source": []
  },
  {
   "cell_type": "code",
   "execution_count": null,
   "id": "38227838",
   "metadata": {},
   "outputs": [],
   "source": [
    "#OPAI TOPIC SUMMARIZATION"
   ]
  },
  {
   "cell_type": "code",
   "execution_count": 30,
   "id": "41740c5f",
   "metadata": {},
   "outputs": [],
   "source": [
    "openai.api_key = os.getenv(\"OPENAI_API_KEY\")"
   ]
  },
  {
   "cell_type": "code",
   "execution_count": 85,
   "id": "293c1dda",
   "metadata": {},
   "outputs": [],
   "source": [
    "#Use GPT to summarize comments on a given topic\n",
    "def Query_OAPI_Topic_Recursive(topic, chatter_segments):\n",
    "    responses = []\n",
    "    \n",
    "    for segment in chatter_segments:\n",
    "        \n",
    "        segment\n",
    "    \n",
    "        completion = openai.ChatCompletion.create(\n",
    "        model=\"gpt-3.5-turbo\", \n",
    "        #max_tokens=1000,\n",
    "        #temperature=0.7,\n",
    "        messages = [{\"role\": \"user\", \"content\": ('Provide a exhaustive summary of complaints on topic ' + str(topic) + ' that I have provided: ' + str(segment))}]\n",
    "        )\n",
    "\n",
    "        responses.append(completion.choices[0]['message']['content'])     \n",
    "    \n",
    "    if(len(responses) > 1):\n",
    "        all_responses_str = ' '.join(responses)\n",
    "        next_segments = segment_text(all_responses_str)   \n",
    "        responses = Query_OAPI_Topic_Recursive(topic, next_segments)\n",
    "    \n",
    "    return responses"
   ]
  },
  {
   "cell_type": "code",
   "execution_count": 34,
   "id": "0f37290e",
   "metadata": {},
   "outputs": [],
   "source": [
    "tax_result = Query_OAPI_Topic_Recursive('tax', tax_segments)"
   ]
  },
  {
   "cell_type": "code",
   "execution_count": 86,
   "id": "98fc53dd",
   "metadata": {},
   "outputs": [
    {
     "name": "stdout",
     "output_type": "stream",
     "text": [
      "Total length 2213: [\"Overall, there are numerous complaints about the New World Game on various issues. These include cheaters, exploiters, bad streamers with annoying voices, double bans, slow leveling and crafting, guild members stealing gold, burnout from playing too much, useless crafting, unbalanced PvP, bugs and glitches, unreliable game mechanics, disappointing economy, unresponsive support, unfulfilled potential, dead servers, lack of content, excessive grind, unfair bans, uninteresting factions, repetitive gameplay, and lack of incentive to craft.\\n\\nDespite these complaints, some players still enjoy the game's environment and mechanics, and appreciate the developers' transparency and effort. However, there are many suggested improvements to address the issues, including better anti-cheat measures, more engaging crafting and PvP systems, balanced rewards for objectives, and fair, effective customer support.\\n\\nSpecific complaints about the New World Game include the battleground being locked to level 60, the material cost for dungeon keys being too high, the time required for tuning orbs being excessive, and the lack of activities outside of Outpost Rush. Additionally, players are frustrated with the poor implementation of the game, the imbalance caused by factions, the difficulty in killing gold elites, the issues with the gear score system, and the ridiculous mob respawns.\\n\\nPlayers have also expressed concern about gold duping, heavy armor, and the ban system. Some suggested improvements include increasing benefits for weaker factions, introducing a roll system for loot, and not degrading armor from PVP deaths.\\n\\nThere are also complaints about the game's economy, including companies hoarding resources and monopolizing the market, making it difficult for new players to progress. The ban system is seen as too trigger-happy, except for fishing bots, and customer support is not responsive enough.\\n\\nGameplay mechanics are also criticized, including broken skills and perk imbalances, and the combat and crafting systems are seen as lacking depth. There are concerns about the game's future content and updates.\\n\\nDespite these issues, some players still find the game enjoyable and worth their money.\"]\n"
     ]
    }
   ],
   "source": [
    "general_result = Query_OAPI_Topic_Recursive('New World Game', general_segments[:3])\n",
    "print(f'Total length {len(general_result[0])}: {general_result}')"
   ]
  }
 ],
 "metadata": {
  "kernelspec": {
   "display_name": "Python 3 (ipykernel)",
   "language": "python",
   "name": "python3"
  },
  "language_info": {
   "codemirror_mode": {
    "name": "ipython",
    "version": 3
   },
   "file_extension": ".py",
   "mimetype": "text/x-python",
   "name": "python",
   "nbconvert_exporter": "python",
   "pygments_lexer": "ipython3",
   "version": "3.9.13"
  }
 },
 "nbformat": 4,
 "nbformat_minor": 5
}
